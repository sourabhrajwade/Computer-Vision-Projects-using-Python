{
 "cells": [
  {
   "cell_type": "markdown",
   "metadata": {},
   "source": [
    "## Live Sketch using on screen camera\n"
   ]
  },
  {
   "cell_type": "code",
   "execution_count": null,
   "metadata": {},
   "outputs": [],
   "source": [
    "import cv2\n",
    "import numpy as np"
   ]
  },
  {
   "cell_type": "markdown",
   "metadata": {},
   "source": [
    "### Now that I have import the libraries required for the project. \n",
    "### Step 2 is to make a function that will manipulate video feed of the camera and generate an sketch. "
   ]
  },
  {
   "cell_type": "code",
   "execution_count": null,
   "metadata": {},
   "outputs": [],
   "source": [
    "def live_sketch(image):\n",
    "    # Convert the image to greyscale, Notice the opencv reads colored image as BGR (Not RGB).\n",
    "    \n",
    "    img_gray = cv2.cvtColor(image, cv2.COLOR_BGR2GRAY)\n",
    "    \n",
    "    # Smoothing the image using Guassian Filter \n",
    "    # (other smoothing algo's are blur, medianBlur, bilaterialFilter, etc)\n",
    "    \n",
    "    img_gray_blur = cv2.GaussianBlur(img_gray, (5,5), 0) \n",
    "    # (5,5) denote width and height of kernal and \n",
    "    # 0 is std deviation in x and y position(0- calculted from kernal)\n",
    "    \n",
    "    # Extract edges using canny algo (Others are Sobel(for vertical/horizontal edges),\n",
    "    # Laplacian(get all orientation), Canny(optimal))\n",
    "    \n",
    "    # Canny(image, edges, threshold1, threshold2)\n",
    "    img_gray_blur_canny = cv2.Canny(img_gray_blur, 10, 120)\n",
    "    \n",
    "    # Convert the image in binary form using thresholding\n",
    "    ret, mask = cv2.threshold(img_gray_blur_canny, 100, 255, cv2.THRESH_BINARY_INV)\n",
    "    \n",
    "    return mask    "
   ]
  },
  {
   "cell_type": "markdown",
   "metadata": {},
   "source": [
    "### Step 3 is to Capture Video from In-Build Camera/Webcam"
   ]
  },
  {
   "cell_type": "code",
   "execution_count": null,
   "metadata": {},
   "outputs": [],
   "source": [
    "# Initialize webcam,  is the object provided by VideoCapture\n",
    "# It contains a boolean indicating if it was sucessful (ret)\n",
    "# It also contains the images collected from the webcam (frame)\n",
    "cap = cv2.VideoCapture(0)\n",
    "\n",
    "while(True):\n",
    "    ret, frame = cap.read()\n",
    "    cv2.imshow('Our Live Sketcher', live_sketch(frame))\n",
    "    if cv2.waitKey(1) == 13: #13 is the Enter Key\n",
    "        break\n",
    "        \n",
    "# Release camera and close windows\n",
    "cap.release()\n",
    "cv2.destroyAllWindows()    "
   ]
  },
  {
   "cell_type": "code",
   "execution_count": null,
   "metadata": {},
   "outputs": [],
   "source": []
  }
 ],
 "metadata": {
  "kernelspec": {
   "display_name": "Python 3.5.6 64-bit",
   "language": "python",
   "name": "python35664bit1fb856d8e99042b9b1b31ebffb515a42"
  },
  "language_info": {
   "codemirror_mode": {
    "name": "ipython",
    "version": 3
   },
   "file_extension": ".py",
   "mimetype": "text/x-python",
   "name": "python",
   "nbconvert_exporter": "python",
   "pygments_lexer": "ipython3",
   "version": "3.5.6"
  }
 },
 "nbformat": 4,
 "nbformat_minor": 2
}
